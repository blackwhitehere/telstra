{
 "cells": [
  {
   "cell_type": "code",
   "execution_count": 2,
   "metadata": {
    "collapsed": false
   },
   "outputs": [
    {
     "data": {
      "text/html": [
       "<div>\n",
       "<table border=\"1\" class=\"dataframe\">\n",
       "  <thead>\n",
       "    <tr style=\"text-align: right;\">\n",
       "      <th></th>\n",
       "      <th>fault_severity</th>\n",
       "      <th>id</th>\n",
       "      <th>location</th>\n",
       "      <th>sample</th>\n",
       "      <th>log_feature</th>\n",
       "      <th>volume</th>\n",
       "      <th>event_type</th>\n",
       "      <th>resource_type</th>\n",
       "      <th>severity_type</th>\n",
       "    </tr>\n",
       "  </thead>\n",
       "  <tbody>\n",
       "    <tr>\n",
       "      <th>0</th>\n",
       "      <td>1</td>\n",
       "      <td>14121</td>\n",
       "      <td>location 118</td>\n",
       "      <td>train</td>\n",
       "      <td>feature 312</td>\n",
       "      <td>4</td>\n",
       "      <td>event_type 34</td>\n",
       "      <td>resource_type 2</td>\n",
       "      <td>severity_type 2</td>\n",
       "    </tr>\n",
       "    <tr>\n",
       "      <th>1</th>\n",
       "      <td>1</td>\n",
       "      <td>14121</td>\n",
       "      <td>location 118</td>\n",
       "      <td>train</td>\n",
       "      <td>feature 312</td>\n",
       "      <td>4</td>\n",
       "      <td>event_type 35</td>\n",
       "      <td>resource_type 2</td>\n",
       "      <td>severity_type 2</td>\n",
       "    </tr>\n",
       "    <tr>\n",
       "      <th>2</th>\n",
       "      <td>1</td>\n",
       "      <td>14121</td>\n",
       "      <td>location 118</td>\n",
       "      <td>train</td>\n",
       "      <td>feature 232</td>\n",
       "      <td>4</td>\n",
       "      <td>event_type 34</td>\n",
       "      <td>resource_type 2</td>\n",
       "      <td>severity_type 2</td>\n",
       "    </tr>\n",
       "    <tr>\n",
       "      <th>3</th>\n",
       "      <td>1</td>\n",
       "      <td>14121</td>\n",
       "      <td>location 118</td>\n",
       "      <td>train</td>\n",
       "      <td>feature 232</td>\n",
       "      <td>4</td>\n",
       "      <td>event_type 35</td>\n",
       "      <td>resource_type 2</td>\n",
       "      <td>severity_type 2</td>\n",
       "    </tr>\n",
       "    <tr>\n",
       "      <th>4</th>\n",
       "      <td>0</td>\n",
       "      <td>9320</td>\n",
       "      <td>location 91</td>\n",
       "      <td>train</td>\n",
       "      <td>feature 315</td>\n",
       "      <td>4</td>\n",
       "      <td>event_type 34</td>\n",
       "      <td>resource_type 2</td>\n",
       "      <td>severity_type 2</td>\n",
       "    </tr>\n",
       "  </tbody>\n",
       "</table>\n",
       "</div>"
      ],
      "text/plain": [
       "   fault_severity     id      location sample  log_feature volume  \\\n",
       "0               1  14121  location 118  train  feature 312      4   \n",
       "1               1  14121  location 118  train  feature 312      4   \n",
       "2               1  14121  location 118  train  feature 232      4   \n",
       "3               1  14121  location 118  train  feature 232      4   \n",
       "4               0   9320   location 91  train  feature 315      4   \n",
       "\n",
       "      event_type    resource_type    severity_type  \n",
       "0  event_type 34  resource_type 2  severity_type 2  \n",
       "1  event_type 35  resource_type 2  severity_type 2  \n",
       "2  event_type 34  resource_type 2  severity_type 2  \n",
       "3  event_type 35  resource_type 2  severity_type 2  \n",
       "4  event_type 34  resource_type 2  severity_type 2  "
      ]
     },
     "execution_count": 2,
     "metadata": {},
     "output_type": "execute_result"
    }
   ],
   "source": [
    "import pandas as pd\n",
    "import matplotlib.pyplot as plt\n",
    "import numpy as np\n",
    "\n",
    "import getJoinTable as gjt\n",
    "join=gjt.joinTable()\n",
    "join.head()"
   ]
  },
  {
   "cell_type": "code",
   "execution_count": 13,
   "metadata": {
    "collapsed": false
   },
   "outputs": [],
   "source": [
    "def drawCT(col):\n",
    "    df=pd.crosstab(join['resource_type'],join['fault_severity'])\n",
    "    ndf = df.div(df.sum(1).astype(float), axis=0)\n",
    "\n",
    "    # Normalize the cross tab to sum to 1:\n",
    "    ndf=ndf.sort(columns=[2.0])\n",
    "    ndf.plot(kind='bar', \n",
    "                stacked=True, \n",
    "                title='Fault Severity by Location')\n",
    "    plt.xlabel('Location')\n",
    "    plt.ylabel('Fault Rate')    \n",
    "    plt.show()"
   ]
  },
  {
   "cell_type": "code",
   "execution_count": null,
   "metadata": {
    "collapsed": true
   },
   "outputs": [],
   "source": [
    "i=1\n",
    "cat_cols=['location','log_feature','severity_type','resource_type','event_type']\n",
    "for cat in cat_cols:\n",
    "    df=pd.crosstab(join[cat],join['fault_severity'])\n",
    "    df=df.sum(0)\n",
    "    plt.subplot(4,3,i)\n",
    "    df.plot(kind='bar',stacked=True)\n",
    "    i=i+1\n",
    "plt.show()"
   ]
  }
 ],
 "metadata": {
  "kernelspec": {
   "display_name": "Python 3",
   "language": "python",
   "name": "python3"
  },
  "language_info": {
   "codemirror_mode": {
    "name": "ipython",
    "version": 3
   },
   "file_extension": ".py",
   "mimetype": "text/x-python",
   "name": "python",
   "nbconvert_exporter": "python",
   "pygments_lexer": "ipython3",
   "version": "3.4.3"
  }
 },
 "nbformat": 4,
 "nbformat_minor": 0
}
