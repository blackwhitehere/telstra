{
 "cells": [
  {
   "cell_type": "code",
   "execution_count": 68,
   "metadata": {
    "collapsed": false
   },
   "outputs": [],
   "source": [
    "import pandas as pd\n",
    "import matplotlib.pyplot as plt\n",
    "import numpy as np\n",
    "import os\n",
    "import time as t\n",
    "from sklearn import preprocessing as pre\n",
    "\n",
    "path=\"/mnt/D210C36810C35261/dev/telstra/data/\"\n",
    "#path=\"C:\\\\dev\\\\telstra\\\\data\\\\\"\n",
    "\n",
    "trainFile=\"train.csv\"\n",
    "testFile=\"test.csv\"\n",
    "resourceFile=\"resource_type.csv\"\n",
    "eventTypeFile=\"event_type.csv\"\n",
    "logFeatureFile=\"log_feature.csv\"\n",
    "severityTypeFile=\"severity_type.csv\"\n",
    "\n",
    "test=pd.read_csv(filepath_or_buffer=path+testFile,delimiter=\",\",header=0)\n",
    "train=pd.read_csv(filepath_or_buffer=path+trainFile,delimiter=\",\",header=0)\n",
    "\n",
    "resource=pd.read_csv(filepath_or_buffer=path+resourceFile,delimiter=\",\",header=0)\n",
    "event=pd.read_csv(filepath_or_buffer=path+eventTypeFile,delimiter=\",\",header=0)\n",
    "feature=pd.read_csv(filepath_or_buffer=path+logFeatureFile,delimiter=\",\",header=0)\n",
    "severity=pd.read_csv(filepath_or_buffer=path+severityTypeFile,delimiter=\",\",header=0)\n",
    "join=pd.DataFrame({'id':[]})\n",
    "datasets={'train':train,'test':test,'resource':resource,'event':event,'feature':feature,'severity':severity}\n",
    "notCat=['id','volume','prior']\n",
    "\n",
    "#creates join dataset table that will store features for train and test datasets\n",
    "datasets['train']['sample']='train'\n",
    "datasets['test']['sample']='test'\n",
    "datasets['test']['fault_severity']=np.nan\n",
    "join=pd.concat([datasets['train'],datasets['test']],ignore_index=True)"
   ]
  },
  {
   "cell_type": "code",
   "execution_count": 53,
   "metadata": {
    "collapsed": false
   },
   "outputs": [
    {
     "data": {
      "text/html": [
       "<div>\n",
       "<table border=\"1\" class=\"dataframe\">\n",
       "  <thead>\n",
       "    <tr style=\"text-align: right;\">\n",
       "      <th></th>\n",
       "      <th>fault_severity</th>\n",
       "      <th>id</th>\n",
       "      <th>location</th>\n",
       "      <th>sample</th>\n",
       "    </tr>\n",
       "  </thead>\n",
       "  <tbody>\n",
       "    <tr>\n",
       "      <th>0</th>\n",
       "      <td>1</td>\n",
       "      <td>14121</td>\n",
       "      <td>location 118</td>\n",
       "      <td>train</td>\n",
       "    </tr>\n",
       "    <tr>\n",
       "      <th>1</th>\n",
       "      <td>0</td>\n",
       "      <td>9320</td>\n",
       "      <td>location 91</td>\n",
       "      <td>train</td>\n",
       "    </tr>\n",
       "    <tr>\n",
       "      <th>2</th>\n",
       "      <td>1</td>\n",
       "      <td>14394</td>\n",
       "      <td>location 152</td>\n",
       "      <td>train</td>\n",
       "    </tr>\n",
       "    <tr>\n",
       "      <th>3</th>\n",
       "      <td>1</td>\n",
       "      <td>8218</td>\n",
       "      <td>location 931</td>\n",
       "      <td>train</td>\n",
       "    </tr>\n",
       "    <tr>\n",
       "      <th>4</th>\n",
       "      <td>0</td>\n",
       "      <td>14804</td>\n",
       "      <td>location 120</td>\n",
       "      <td>train</td>\n",
       "    </tr>\n",
       "  </tbody>\n",
       "</table>\n",
       "</div>"
      ],
      "text/plain": [
       "   fault_severity     id      location sample\n",
       "0               1  14121  location 118  train\n",
       "1               0   9320   location 91  train\n",
       "2               1  14394  location 152  train\n",
       "3               1   8218  location 931  train\n",
       "4               0  14804  location 120  train"
      ]
     },
     "execution_count": 53,
     "metadata": {},
     "output_type": "execute_result"
    }
   ],
   "source": [
    "join.head()"
   ]
  },
  {
   "cell_type": "code",
   "execution_count": 70,
   "metadata": {
    "collapsed": false
   },
   "outputs": [],
   "source": [
    "dfp=train.groupby('location').mean() #add 2*std\n",
    "dfp['location']=dfp.index\n",
    "dfp=dfp.reindex(columns=['fault_severity','location'])\n",
    "dfp.columns=['prior','location']\n",
    "dfp['prior']=pre.minmax_scale(dfp['prior'],feature_range=(0,2))\n",
    "join=pd.merge(join,dfp,on='location')"
   ]
  },
  {
   "cell_type": "code",
   "execution_count": 71,
   "metadata": {
    "collapsed": false
   },
   "outputs": [
    {
     "name": "stderr",
     "output_type": "stream",
     "text": [
      "/usr/share/anaconda3/lib/python3.5/site-packages/sklearn/utils/validation.py:420: DataConversionWarning: Data with input dtype int64 was converted to float64.\n",
      "  warnings.warn(msg, DataConversionWarning)\n"
     ]
    },
    {
     "data": {
      "text/html": [
       "<div>\n",
       "<table border=\"1\" class=\"dataframe\">\n",
       "  <thead>\n",
       "    <tr style=\"text-align: right;\">\n",
       "      <th></th>\n",
       "      <th>fault_severity</th>\n",
       "      <th>id</th>\n",
       "      <th>location</th>\n",
       "      <th>sample</th>\n",
       "      <th>prior</th>\n",
       "      <th>weight</th>\n",
       "    </tr>\n",
       "  </thead>\n",
       "  <tbody>\n",
       "    <tr>\n",
       "      <th>0</th>\n",
       "      <td>1</td>\n",
       "      <td>14121</td>\n",
       "      <td>location 118</td>\n",
       "      <td>train</td>\n",
       "      <td>0.090909</td>\n",
       "      <td>0.380952</td>\n",
       "    </tr>\n",
       "    <tr>\n",
       "      <th>1</th>\n",
       "      <td>0</td>\n",
       "      <td>6821</td>\n",
       "      <td>location 118</td>\n",
       "      <td>train</td>\n",
       "      <td>0.090909</td>\n",
       "      <td>0.380952</td>\n",
       "    </tr>\n",
       "    <tr>\n",
       "      <th>2</th>\n",
       "      <td>0</td>\n",
       "      <td>12008</td>\n",
       "      <td>location 118</td>\n",
       "      <td>train</td>\n",
       "      <td>0.090909</td>\n",
       "      <td>0.380952</td>\n",
       "    </tr>\n",
       "    <tr>\n",
       "      <th>3</th>\n",
       "      <td>0</td>\n",
       "      <td>18441</td>\n",
       "      <td>location 118</td>\n",
       "      <td>train</td>\n",
       "      <td>0.090909</td>\n",
       "      <td>0.380952</td>\n",
       "    </tr>\n",
       "    <tr>\n",
       "      <th>4</th>\n",
       "      <td>0</td>\n",
       "      <td>9479</td>\n",
       "      <td>location 118</td>\n",
       "      <td>train</td>\n",
       "      <td>0.090909</td>\n",
       "      <td>0.380952</td>\n",
       "    </tr>\n",
       "  </tbody>\n",
       "</table>\n",
       "</div>"
      ],
      "text/plain": [
       "   fault_severity     id      location sample     prior    weight\n",
       "0               1  14121  location 118  train  0.090909  0.380952\n",
       "1               0   6821  location 118  train  0.090909  0.380952\n",
       "2               0  12008  location 118  train  0.090909  0.380952\n",
       "3               0  18441  location 118  train  0.090909  0.380952\n",
       "4               0   9479  location 118  train  0.090909  0.380952"
      ]
     },
     "execution_count": 71,
     "metadata": {},
     "output_type": "execute_result"
    }
   ],
   "source": [
    "dfw=train.groupby('location').count()\n",
    "dfw['location']=dfw.index\n",
    "dfw=dfw.reindex(columns=['fault_severity','location'])\n",
    "dfw.columns=['weight','location']\n",
    "dfw['weight']=pre.minmax_scale(dfw['weight'],feature_range=(0,1))\n",
    "join=pd.merge(join,dfw,on='location')\n",
    "join.head()"
   ]
  },
  {
   "cell_type": "code",
   "execution_count": 72,
   "metadata": {
    "collapsed": false
   },
   "outputs": [
    {
     "data": {
      "text/plain": [
       "fault_severity    float64\n",
       "id                  int64\n",
       "location           object\n",
       "sample             object\n",
       "prior             float64\n",
       "weight            float64\n",
       "dtype: object"
      ]
     },
     "execution_count": 72,
     "metadata": {},
     "output_type": "execute_result"
    }
   ],
   "source": []
  },
  {
   "cell_type": "code",
   "execution_count": 55,
   "metadata": {
    "collapsed": true
   },
   "outputs": [
    {
     "data": {
      "text/html": [
       "<div>\n",
       "<table border=\"1\" class=\"dataframe\">\n",
       "  <thead>\n",
       "    <tr style=\"text-align: right;\">\n",
       "      <th>fault_severity</th>\n",
       "      <th>0</th>\n",
       "      <th>1</th>\n",
       "      <th>2</th>\n",
       "    </tr>\n",
       "    <tr>\n",
       "      <th>location</th>\n",
       "      <th></th>\n",
       "      <th></th>\n",
       "      <th></th>\n",
       "    </tr>\n",
       "  </thead>\n",
       "  <tbody>\n",
       "    <tr>\n",
       "      <th>location 1</th>\n",
       "      <td>14</td>\n",
       "      <td>8</td>\n",
       "      <td>2</td>\n",
       "    </tr>\n",
       "    <tr>\n",
       "      <th>location 10</th>\n",
       "      <td>1</td>\n",
       "      <td>0</td>\n",
       "      <td>0</td>\n",
       "    </tr>\n",
       "    <tr>\n",
       "      <th>location 100</th>\n",
       "      <td>13</td>\n",
       "      <td>2</td>\n",
       "      <td>0</td>\n",
       "    </tr>\n",
       "    <tr>\n",
       "      <th>location 1000</th>\n",
       "      <td>3</td>\n",
       "      <td>0</td>\n",
       "      <td>0</td>\n",
       "    </tr>\n",
       "    <tr>\n",
       "      <th>location 1002</th>\n",
       "      <td>1</td>\n",
       "      <td>0</td>\n",
       "      <td>0</td>\n",
       "    </tr>\n",
       "    <tr>\n",
       "      <th>location 1005</th>\n",
       "      <td>1</td>\n",
       "      <td>0</td>\n",
       "      <td>0</td>\n",
       "    </tr>\n",
       "    <tr>\n",
       "      <th>location 1006</th>\n",
       "      <td>3</td>\n",
       "      <td>0</td>\n",
       "      <td>0</td>\n",
       "    </tr>\n",
       "    <tr>\n",
       "      <th>location 1007</th>\n",
       "      <td>16</td>\n",
       "      <td>3</td>\n",
       "      <td>0</td>\n",
       "    </tr>\n",
       "    <tr>\n",
       "      <th>location 1008</th>\n",
       "      <td>34</td>\n",
       "      <td>21</td>\n",
       "      <td>16</td>\n",
       "    </tr>\n",
       "    <tr>\n",
       "      <th>location 1009</th>\n",
       "      <td>4</td>\n",
       "      <td>0</td>\n",
       "      <td>0</td>\n",
       "    </tr>\n",
       "    <tr>\n",
       "      <th>location 101</th>\n",
       "      <td>1</td>\n",
       "      <td>0</td>\n",
       "      <td>0</td>\n",
       "    </tr>\n",
       "    <tr>\n",
       "      <th>location 1010</th>\n",
       "      <td>13</td>\n",
       "      <td>6</td>\n",
       "      <td>0</td>\n",
       "    </tr>\n",
       "    <tr>\n",
       "      <th>location 1011</th>\n",
       "      <td>1</td>\n",
       "      <td>7</td>\n",
       "      <td>1</td>\n",
       "    </tr>\n",
       "    <tr>\n",
       "      <th>location 1013</th>\n",
       "      <td>1</td>\n",
       "      <td>0</td>\n",
       "      <td>0</td>\n",
       "    </tr>\n",
       "    <tr>\n",
       "      <th>location 1014</th>\n",
       "      <td>5</td>\n",
       "      <td>6</td>\n",
       "      <td>1</td>\n",
       "    </tr>\n",
       "    <tr>\n",
       "      <th>location 1015</th>\n",
       "      <td>5</td>\n",
       "      <td>6</td>\n",
       "      <td>0</td>\n",
       "    </tr>\n",
       "    <tr>\n",
       "      <th>location 1016</th>\n",
       "      <td>0</td>\n",
       "      <td>2</td>\n",
       "      <td>1</td>\n",
       "    </tr>\n",
       "    <tr>\n",
       "      <th>location 1017</th>\n",
       "      <td>3</td>\n",
       "      <td>6</td>\n",
       "      <td>1</td>\n",
       "    </tr>\n",
       "    <tr>\n",
       "      <th>location 1018</th>\n",
       "      <td>18</td>\n",
       "      <td>6</td>\n",
       "      <td>0</td>\n",
       "    </tr>\n",
       "    <tr>\n",
       "      <th>location 1019</th>\n",
       "      <td>23</td>\n",
       "      <td>10</td>\n",
       "      <td>20</td>\n",
       "    </tr>\n",
       "    <tr>\n",
       "      <th>location 102</th>\n",
       "      <td>36</td>\n",
       "      <td>8</td>\n",
       "      <td>0</td>\n",
       "    </tr>\n",
       "    <tr>\n",
       "      <th>location 1020</th>\n",
       "      <td>0</td>\n",
       "      <td>2</td>\n",
       "      <td>2</td>\n",
       "    </tr>\n",
       "    <tr>\n",
       "      <th>location 1021</th>\n",
       "      <td>0</td>\n",
       "      <td>1</td>\n",
       "      <td>2</td>\n",
       "    </tr>\n",
       "    <tr>\n",
       "      <th>location 1022</th>\n",
       "      <td>1</td>\n",
       "      <td>1</td>\n",
       "      <td>0</td>\n",
       "    </tr>\n",
       "    <tr>\n",
       "      <th>location 1023</th>\n",
       "      <td>3</td>\n",
       "      <td>4</td>\n",
       "      <td>0</td>\n",
       "    </tr>\n",
       "    <tr>\n",
       "      <th>location 1024</th>\n",
       "      <td>16</td>\n",
       "      <td>0</td>\n",
       "      <td>1</td>\n",
       "    </tr>\n",
       "    <tr>\n",
       "      <th>location 1025</th>\n",
       "      <td>5</td>\n",
       "      <td>3</td>\n",
       "      <td>0</td>\n",
       "    </tr>\n",
       "    <tr>\n",
       "      <th>location 1026</th>\n",
       "      <td>13</td>\n",
       "      <td>8</td>\n",
       "      <td>2</td>\n",
       "    </tr>\n",
       "    <tr>\n",
       "      <th>location 1027</th>\n",
       "      <td>1</td>\n",
       "      <td>0</td>\n",
       "      <td>0</td>\n",
       "    </tr>\n",
       "    <tr>\n",
       "      <th>location 1029</th>\n",
       "      <td>3</td>\n",
       "      <td>0</td>\n",
       "      <td>0</td>\n",
       "    </tr>\n",
       "    <tr>\n",
       "      <th>...</th>\n",
       "      <td>...</td>\n",
       "      <td>...</td>\n",
       "      <td>...</td>\n",
       "    </tr>\n",
       "    <tr>\n",
       "      <th>location 963</th>\n",
       "      <td>16</td>\n",
       "      <td>0</td>\n",
       "      <td>0</td>\n",
       "    </tr>\n",
       "    <tr>\n",
       "      <th>location 964</th>\n",
       "      <td>3</td>\n",
       "      <td>1</td>\n",
       "      <td>0</td>\n",
       "    </tr>\n",
       "    <tr>\n",
       "      <th>location 966</th>\n",
       "      <td>1</td>\n",
       "      <td>0</td>\n",
       "      <td>0</td>\n",
       "    </tr>\n",
       "    <tr>\n",
       "      <th>location 967</th>\n",
       "      <td>1</td>\n",
       "      <td>1</td>\n",
       "      <td>1</td>\n",
       "    </tr>\n",
       "    <tr>\n",
       "      <th>location 968</th>\n",
       "      <td>1</td>\n",
       "      <td>0</td>\n",
       "      <td>0</td>\n",
       "    </tr>\n",
       "    <tr>\n",
       "      <th>location 969</th>\n",
       "      <td>1</td>\n",
       "      <td>0</td>\n",
       "      <td>0</td>\n",
       "    </tr>\n",
       "    <tr>\n",
       "      <th>location 97</th>\n",
       "      <td>4</td>\n",
       "      <td>3</td>\n",
       "      <td>0</td>\n",
       "    </tr>\n",
       "    <tr>\n",
       "      <th>location 971</th>\n",
       "      <td>1</td>\n",
       "      <td>0</td>\n",
       "      <td>0</td>\n",
       "    </tr>\n",
       "    <tr>\n",
       "      <th>location 972</th>\n",
       "      <td>2</td>\n",
       "      <td>6</td>\n",
       "      <td>1</td>\n",
       "    </tr>\n",
       "    <tr>\n",
       "      <th>location 973</th>\n",
       "      <td>2</td>\n",
       "      <td>0</td>\n",
       "      <td>0</td>\n",
       "    </tr>\n",
       "    <tr>\n",
       "      <th>location 974</th>\n",
       "      <td>2</td>\n",
       "      <td>2</td>\n",
       "      <td>1</td>\n",
       "    </tr>\n",
       "    <tr>\n",
       "      <th>location 975</th>\n",
       "      <td>2</td>\n",
       "      <td>0</td>\n",
       "      <td>0</td>\n",
       "    </tr>\n",
       "    <tr>\n",
       "      <th>location 976</th>\n",
       "      <td>16</td>\n",
       "      <td>17</td>\n",
       "      <td>15</td>\n",
       "    </tr>\n",
       "    <tr>\n",
       "      <th>location 977</th>\n",
       "      <td>3</td>\n",
       "      <td>5</td>\n",
       "      <td>0</td>\n",
       "    </tr>\n",
       "    <tr>\n",
       "      <th>location 978</th>\n",
       "      <td>1</td>\n",
       "      <td>3</td>\n",
       "      <td>0</td>\n",
       "    </tr>\n",
       "    <tr>\n",
       "      <th>location 979</th>\n",
       "      <td>4</td>\n",
       "      <td>1</td>\n",
       "      <td>0</td>\n",
       "    </tr>\n",
       "    <tr>\n",
       "      <th>location 980</th>\n",
       "      <td>1</td>\n",
       "      <td>2</td>\n",
       "      <td>0</td>\n",
       "    </tr>\n",
       "    <tr>\n",
       "      <th>location 981</th>\n",
       "      <td>1</td>\n",
       "      <td>1</td>\n",
       "      <td>0</td>\n",
       "    </tr>\n",
       "    <tr>\n",
       "      <th>location 983</th>\n",
       "      <td>2</td>\n",
       "      <td>3</td>\n",
       "      <td>0</td>\n",
       "    </tr>\n",
       "    <tr>\n",
       "      <th>location 984</th>\n",
       "      <td>7</td>\n",
       "      <td>8</td>\n",
       "      <td>4</td>\n",
       "    </tr>\n",
       "    <tr>\n",
       "      <th>location 987</th>\n",
       "      <td>1</td>\n",
       "      <td>0</td>\n",
       "      <td>0</td>\n",
       "    </tr>\n",
       "    <tr>\n",
       "      <th>location 989</th>\n",
       "      <td>3</td>\n",
       "      <td>11</td>\n",
       "      <td>2</td>\n",
       "    </tr>\n",
       "    <tr>\n",
       "      <th>location 99</th>\n",
       "      <td>2</td>\n",
       "      <td>0</td>\n",
       "      <td>0</td>\n",
       "    </tr>\n",
       "    <tr>\n",
       "      <th>location 990</th>\n",
       "      <td>3</td>\n",
       "      <td>3</td>\n",
       "      <td>0</td>\n",
       "    </tr>\n",
       "    <tr>\n",
       "      <th>location 991</th>\n",
       "      <td>0</td>\n",
       "      <td>1</td>\n",
       "      <td>2</td>\n",
       "    </tr>\n",
       "    <tr>\n",
       "      <th>location 994</th>\n",
       "      <td>5</td>\n",
       "      <td>0</td>\n",
       "      <td>0</td>\n",
       "    </tr>\n",
       "    <tr>\n",
       "      <th>location 995</th>\n",
       "      <td>4</td>\n",
       "      <td>14</td>\n",
       "      <td>22</td>\n",
       "    </tr>\n",
       "    <tr>\n",
       "      <th>location 996</th>\n",
       "      <td>1</td>\n",
       "      <td>3</td>\n",
       "      <td>0</td>\n",
       "    </tr>\n",
       "    <tr>\n",
       "      <th>location 998</th>\n",
       "      <td>4</td>\n",
       "      <td>6</td>\n",
       "      <td>1</td>\n",
       "    </tr>\n",
       "    <tr>\n",
       "      <th>location 999</th>\n",
       "      <td>3</td>\n",
       "      <td>3</td>\n",
       "      <td>0</td>\n",
       "    </tr>\n",
       "  </tbody>\n",
       "</table>\n",
       "<p>929 rows × 3 columns</p>\n",
       "</div>"
      ],
      "text/plain": [
       "fault_severity   0   1   2\n",
       "location                  \n",
       "location 1      14   8   2\n",
       "location 10      1   0   0\n",
       "location 100    13   2   0\n",
       "location 1000    3   0   0\n",
       "location 1002    1   0   0\n",
       "location 1005    1   0   0\n",
       "location 1006    3   0   0\n",
       "location 1007   16   3   0\n",
       "location 1008   34  21  16\n",
       "location 1009    4   0   0\n",
       "location 101     1   0   0\n",
       "location 1010   13   6   0\n",
       "location 1011    1   7   1\n",
       "location 1013    1   0   0\n",
       "location 1014    5   6   1\n",
       "location 1015    5   6   0\n",
       "location 1016    0   2   1\n",
       "location 1017    3   6   1\n",
       "location 1018   18   6   0\n",
       "location 1019   23  10  20\n",
       "location 102    36   8   0\n",
       "location 1020    0   2   2\n",
       "location 1021    0   1   2\n",
       "location 1022    1   1   0\n",
       "location 1023    3   4   0\n",
       "location 1024   16   0   1\n",
       "location 1025    5   3   0\n",
       "location 1026   13   8   2\n",
       "location 1027    1   0   0\n",
       "location 1029    3   0   0\n",
       "...             ..  ..  ..\n",
       "location 963    16   0   0\n",
       "location 964     3   1   0\n",
       "location 966     1   0   0\n",
       "location 967     1   1   1\n",
       "location 968     1   0   0\n",
       "location 969     1   0   0\n",
       "location 97      4   3   0\n",
       "location 971     1   0   0\n",
       "location 972     2   6   1\n",
       "location 973     2   0   0\n",
       "location 974     2   2   1\n",
       "location 975     2   0   0\n",
       "location 976    16  17  15\n",
       "location 977     3   5   0\n",
       "location 978     1   3   0\n",
       "location 979     4   1   0\n",
       "location 980     1   2   0\n",
       "location 981     1   1   0\n",
       "location 983     2   3   0\n",
       "location 984     7   8   4\n",
       "location 987     1   0   0\n",
       "location 989     3  11   2\n",
       "location 99      2   0   0\n",
       "location 990     3   3   0\n",
       "location 991     0   1   2\n",
       "location 994     5   0   0\n",
       "location 995     4  14  22\n",
       "location 996     1   3   0\n",
       "location 998     4   6   1\n",
       "location 999     3   3   0\n",
       "\n",
       "[929 rows x 3 columns]"
      ]
     },
     "execution_count": 55,
     "metadata": {},
     "output_type": "execute_result"
    }
   ],
   "source": [
    "pd.crosstab(train['location'],train['fault_severity'])"
   ]
  },
  {
   "cell_type": "code",
   "execution_count": null,
   "metadata": {
    "collapsed": true
   },
   "outputs": [],
   "source": [
    "#joins features from different datasets into one dataframe, features only for evaluated ids are extracted\n",
    "#(i.e. some features may be not related to any id)\n",
    "samples=['train','test']\n",
    "for key, dataset in datasets.items():\n",
    "    if key not in samples:\n",
    "        join=pd.merge(join,dataset,on='id',how='left') #can use concat?\n",
    "\n",
    "#convert table of ids and classes to binary row feature vectors for each unique id\n",
    "for key, dataset in datasets.items():\n",
    "    tmp=pd.get_dummies(dataset,dummy_na=True)\n",
    "    tmp=tmp.groupby('id').sum()\n",
    "    tmp['id']=tmp.index\n",
    "    dataset=tmp\n",
    "    datasets[key]=dataset\n",
    "\n",
    "join=join.set_index(['sample',join.index])"
   ]
  },
  {
   "cell_type": "code",
   "execution_count": 12,
   "metadata": {
    "collapsed": false
   },
   "outputs": [],
   "source": [
    "#normalizes a continuous feature\n",
    "join['volume']=pre.scale(join['volume'].astype(float))\n",
    "\n",
    "#fills in missing data\n",
    "from sklearn.base import TransformerMixin\n",
    "class DataFrameImputer(TransformerMixin):\n",
    "    def fit(self, X, y=None):\n",
    "        self.fill = pd.Series([X[c].value_counts().index[0]\n",
    "            if X[c].dtype == np.dtype('O') else X[c].median() for c in X],\n",
    "            index=X.columns)\n",
    "        return self\n",
    "    def transform(self, X, y=None):\n",
    "        return X.fillna(self.fill)\n",
    "    \n",
    "join = DataFrameImputer().fit_transform(join)\n",
    "#join=join.fillna(value=0)\n",
    "\n",
    "#creates features and targets for final training\n",
    "features=join.columns.values.tolist()\n",
    "non_features=[]\n",
    "for x in features:\n",
    "    if \"_nan\" in x:\n",
    "        features.remove(x)\n",
    "        \n",
    "features=features\n",
    "features=features[2:]\n",
    "\n",
    "train_features = join.loc['train'][features]\n",
    "train_target = join.loc['train']['fault_severity']\n",
    "\n",
    "test_features = join.loc['test'][features]"
   ]
  },
  {
   "cell_type": "code",
   "execution_count": 17,
   "metadata": {
    "collapsed": false
   },
   "outputs": [
    {
     "data": {
      "text/html": [
       "<div>\n",
       "<table border=\"1\" class=\"dataframe\">\n",
       "  <thead>\n",
       "    <tr style=\"text-align: right;\">\n",
       "      <th></th>\n",
       "      <th></th>\n",
       "      <th>fault_severity</th>\n",
       "      <th>id</th>\n",
       "      <th>location_location 1</th>\n",
       "      <th>location_location 10</th>\n",
       "      <th>location_location 100</th>\n",
       "      <th>location_location 1000</th>\n",
       "      <th>location_location 1001</th>\n",
       "      <th>location_location 1002</th>\n",
       "      <th>location_location 1003</th>\n",
       "      <th>location_location 1004</th>\n",
       "      <th>...</th>\n",
       "      <th>event_type_event_type 7</th>\n",
       "      <th>event_type_event_type 8</th>\n",
       "      <th>event_type_event_type 9</th>\n",
       "      <th>event_type_nan</th>\n",
       "      <th>severity_type_severity_type 1</th>\n",
       "      <th>severity_type_severity_type 2</th>\n",
       "      <th>severity_type_severity_type 3</th>\n",
       "      <th>severity_type_severity_type 4</th>\n",
       "      <th>severity_type_severity_type 5</th>\n",
       "      <th>severity_type_nan</th>\n",
       "    </tr>\n",
       "    <tr>\n",
       "      <th>sample</th>\n",
       "      <th></th>\n",
       "      <th></th>\n",
       "      <th></th>\n",
       "      <th></th>\n",
       "      <th></th>\n",
       "      <th></th>\n",
       "      <th></th>\n",
       "      <th></th>\n",
       "      <th></th>\n",
       "      <th></th>\n",
       "      <th></th>\n",
       "      <th></th>\n",
       "      <th></th>\n",
       "      <th></th>\n",
       "      <th></th>\n",
       "      <th></th>\n",
       "      <th></th>\n",
       "      <th></th>\n",
       "      <th></th>\n",
       "      <th></th>\n",
       "      <th></th>\n",
       "      <th></th>\n",
       "    </tr>\n",
       "  </thead>\n",
       "  <tbody>\n",
       "    <tr>\n",
       "      <th rowspan=\"5\" valign=\"top\">train</th>\n",
       "      <th>0</th>\n",
       "      <td>1</td>\n",
       "      <td>1</td>\n",
       "      <td>0</td>\n",
       "      <td>0</td>\n",
       "      <td>0</td>\n",
       "      <td>0</td>\n",
       "      <td>0</td>\n",
       "      <td>0</td>\n",
       "      <td>0</td>\n",
       "      <td>0</td>\n",
       "      <td>...</td>\n",
       "      <td>0</td>\n",
       "      <td>0</td>\n",
       "      <td>0</td>\n",
       "      <td>0</td>\n",
       "      <td>1</td>\n",
       "      <td>0</td>\n",
       "      <td>0</td>\n",
       "      <td>0</td>\n",
       "      <td>0</td>\n",
       "      <td>0</td>\n",
       "    </tr>\n",
       "    <tr>\n",
       "      <th>1</th>\n",
       "      <td>0</td>\n",
       "      <td>5</td>\n",
       "      <td>0</td>\n",
       "      <td>0</td>\n",
       "      <td>0</td>\n",
       "      <td>0</td>\n",
       "      <td>0</td>\n",
       "      <td>0</td>\n",
       "      <td>0</td>\n",
       "      <td>0</td>\n",
       "      <td>...</td>\n",
       "      <td>0</td>\n",
       "      <td>0</td>\n",
       "      <td>0</td>\n",
       "      <td>0</td>\n",
       "      <td>0</td>\n",
       "      <td>1</td>\n",
       "      <td>0</td>\n",
       "      <td>0</td>\n",
       "      <td>0</td>\n",
       "      <td>0</td>\n",
       "    </tr>\n",
       "    <tr>\n",
       "      <th>2</th>\n",
       "      <td>1</td>\n",
       "      <td>6</td>\n",
       "      <td>0</td>\n",
       "      <td>0</td>\n",
       "      <td>0</td>\n",
       "      <td>0</td>\n",
       "      <td>0</td>\n",
       "      <td>0</td>\n",
       "      <td>0</td>\n",
       "      <td>0</td>\n",
       "      <td>...</td>\n",
       "      <td>0</td>\n",
       "      <td>0</td>\n",
       "      <td>0</td>\n",
       "      <td>0</td>\n",
       "      <td>0</td>\n",
       "      <td>1</td>\n",
       "      <td>0</td>\n",
       "      <td>0</td>\n",
       "      <td>0</td>\n",
       "      <td>0</td>\n",
       "    </tr>\n",
       "    <tr>\n",
       "      <th>3</th>\n",
       "      <td>0</td>\n",
       "      <td>8</td>\n",
       "      <td>0</td>\n",
       "      <td>0</td>\n",
       "      <td>0</td>\n",
       "      <td>0</td>\n",
       "      <td>0</td>\n",
       "      <td>0</td>\n",
       "      <td>0</td>\n",
       "      <td>0</td>\n",
       "      <td>...</td>\n",
       "      <td>0</td>\n",
       "      <td>0</td>\n",
       "      <td>0</td>\n",
       "      <td>0</td>\n",
       "      <td>0</td>\n",
       "      <td>1</td>\n",
       "      <td>0</td>\n",
       "      <td>0</td>\n",
       "      <td>0</td>\n",
       "      <td>0</td>\n",
       "    </tr>\n",
       "    <tr>\n",
       "      <th>4</th>\n",
       "      <td>0</td>\n",
       "      <td>13</td>\n",
       "      <td>0</td>\n",
       "      <td>0</td>\n",
       "      <td>0</td>\n",
       "      <td>0</td>\n",
       "      <td>0</td>\n",
       "      <td>0</td>\n",
       "      <td>0</td>\n",
       "      <td>0</td>\n",
       "      <td>...</td>\n",
       "      <td>0</td>\n",
       "      <td>0</td>\n",
       "      <td>0</td>\n",
       "      <td>0</td>\n",
       "      <td>0</td>\n",
       "      <td>1</td>\n",
       "      <td>0</td>\n",
       "      <td>0</td>\n",
       "      <td>0</td>\n",
       "      <td>0</td>\n",
       "    </tr>\n",
       "  </tbody>\n",
       "</table>\n",
       "<p>5 rows × 1588 columns</p>\n",
       "</div>"
      ],
      "text/plain": [
       "          fault_severity  id  location_location 1  location_location 10  \\\n",
       "sample                                                                    \n",
       "train  0               1   1                    0                     0   \n",
       "       1               0   5                    0                     0   \n",
       "       2               1   6                    0                     0   \n",
       "       3               0   8                    0                     0   \n",
       "       4               0  13                    0                     0   \n",
       "\n",
       "          location_location 100  location_location 1000  \\\n",
       "sample                                                    \n",
       "train  0                      0                       0   \n",
       "       1                      0                       0   \n",
       "       2                      0                       0   \n",
       "       3                      0                       0   \n",
       "       4                      0                       0   \n",
       "\n",
       "          location_location 1001  location_location 1002  \\\n",
       "sample                                                     \n",
       "train  0                       0                       0   \n",
       "       1                       0                       0   \n",
       "       2                       0                       0   \n",
       "       3                       0                       0   \n",
       "       4                       0                       0   \n",
       "\n",
       "          location_location 1003  location_location 1004        ...          \\\n",
       "sample                                                          ...           \n",
       "train  0                       0                       0        ...           \n",
       "       1                       0                       0        ...           \n",
       "       2                       0                       0        ...           \n",
       "       3                       0                       0        ...           \n",
       "       4                       0                       0        ...           \n",
       "\n",
       "          event_type_event_type 7  event_type_event_type 8  \\\n",
       "sample                                                       \n",
       "train  0                        0                        0   \n",
       "       1                        0                        0   \n",
       "       2                        0                        0   \n",
       "       3                        0                        0   \n",
       "       4                        0                        0   \n",
       "\n",
       "          event_type_event_type 9  event_type_nan  \\\n",
       "sample                                              \n",
       "train  0                        0               0   \n",
       "       1                        0               0   \n",
       "       2                        0               0   \n",
       "       3                        0               0   \n",
       "       4                        0               0   \n",
       "\n",
       "          severity_type_severity_type 1  severity_type_severity_type 2  \\\n",
       "sample                                                                   \n",
       "train  0                              1                              0   \n",
       "       1                              0                              1   \n",
       "       2                              0                              1   \n",
       "       3                              0                              1   \n",
       "       4                              0                              1   \n",
       "\n",
       "          severity_type_severity_type 3  severity_type_severity_type 4  \\\n",
       "sample                                                                   \n",
       "train  0                              0                              0   \n",
       "       1                              0                              0   \n",
       "       2                              0                              0   \n",
       "       3                              0                              0   \n",
       "       4                              0                              0   \n",
       "\n",
       "          severity_type_severity_type 5  severity_type_nan  \n",
       "sample                                                      \n",
       "train  0                              0                  0  \n",
       "       1                              0                  0  \n",
       "       2                              0                  0  \n",
       "       3                              0                  0  \n",
       "       4                              0                  0  \n",
       "\n",
       "[5 rows x 1588 columns]"
      ]
     },
     "execution_count": 17,
     "metadata": {},
     "output_type": "execute_result"
    }
   ],
   "source": [
    "join.head()"
   ]
  },
  {
   "cell_type": "code",
   "execution_count": 8,
   "metadata": {
    "collapsed": false
   },
   "outputs": [
    {
     "data": {
      "text/plain": [
       "'fault_severity'"
      ]
     },
     "execution_count": 8,
     "metadata": {},
     "output_type": "execute_result"
    }
   ],
   "source": [
    "\n",
    "join.head(15)"
   ]
  },
  {
   "cell_type": "code",
   "execution_count": 13,
   "metadata": {
    "collapsed": false
   },
   "outputs": [],
   "source": [
    "import xgboost as xgb\n",
    "\n",
    "sz=(train_features.values).shape\n",
    "train = train_features.values[:int(sz[0] * 0.7), :]\n",
    "test = train_features.values[int(sz[0] * 0.7):, :]\n",
    "\n",
    "train_X = train\n",
    "train_Y = train_target.values[:int(sz[0]*0.7)]\n",
    "\n",
    "\n",
    "test_X = test\n",
    "test_Y = train_target.values[int(sz[0] * 0.7):]\n",
    "\n",
    "xg_train = xgb.DMatrix(train_X, label=train_Y, feature_names=train_features.columns)\n",
    "xg_test = xgb.DMatrix(test_X, label=test_Y, feature_names=train_features.columns)"
   ]
  },
  {
   "cell_type": "code",
   "execution_count": 18,
   "metadata": {
    "collapsed": false,
    "scrolled": true
   },
   "outputs": [
    {
     "name": "stderr",
     "output_type": "stream",
     "text": [
      "[0]\ttrain-mlogloss:0.653171\ttest-mlogloss:0.670353\n",
      "[1]\ttrain-mlogloss:0.578092\ttest-mlogloss:0.599657\n",
      "[2]\ttrain-mlogloss:0.553969\ttest-mlogloss:0.579556\n",
      "[3]\ttrain-mlogloss:0.534443\ttest-mlogloss:0.568602\n"
     ]
    },
    {
     "data": {
      "text/html": [
       "<div>\n",
       "<table border=\"1\" class=\"dataframe\">\n",
       "  <thead>\n",
       "    <tr style=\"text-align: right;\">\n",
       "      <th></th>\n",
       "      <th>test-mlogloss-mean</th>\n",
       "      <th>test-mlogloss-std</th>\n",
       "      <th>train-mlogloss-mean</th>\n",
       "      <th>train-mlogloss-std</th>\n",
       "    </tr>\n",
       "  </thead>\n",
       "  <tbody>\n",
       "    <tr>\n",
       "      <th>0</th>\n",
       "      <td>0.689880</td>\n",
       "      <td>0.008796</td>\n",
       "      <td>0.661276</td>\n",
       "      <td>0.004137</td>\n",
       "    </tr>\n",
       "    <tr>\n",
       "      <th>1</th>\n",
       "      <td>0.629395</td>\n",
       "      <td>0.013871</td>\n",
       "      <td>0.588353</td>\n",
       "      <td>0.002724</td>\n",
       "    </tr>\n",
       "    <tr>\n",
       "      <th>2</th>\n",
       "      <td>0.608096</td>\n",
       "      <td>0.015692</td>\n",
       "      <td>0.559519</td>\n",
       "      <td>0.003816</td>\n",
       "    </tr>\n",
       "    <tr>\n",
       "      <th>3</th>\n",
       "      <td>0.599923</td>\n",
       "      <td>0.016745</td>\n",
       "      <td>0.548225</td>\n",
       "      <td>0.005809</td>\n",
       "    </tr>\n",
       "  </tbody>\n",
       "</table>\n",
       "</div>"
      ],
      "text/plain": [
       "   test-mlogloss-mean  test-mlogloss-std  train-mlogloss-mean  \\\n",
       "0            0.689880           0.008796             0.661276   \n",
       "1            0.629395           0.013871             0.588353   \n",
       "2            0.608096           0.015692             0.559519   \n",
       "3            0.599923           0.016745             0.548225   \n",
       "\n",
       "   train-mlogloss-std  \n",
       "0            0.004137  \n",
       "1            0.002724  \n",
       "2            0.003816  \n",
       "3            0.005809  "
      ]
     },
     "execution_count": 18,
     "metadata": {},
     "output_type": "execute_result"
    }
   ],
   "source": [
    "# setup parameters for xgboost\n",
    "param = {}\n",
    "# use softmax multi-class classification\n",
    "param['objective'] = 'multi:softprob'\n",
    "# scale weight of positive examples\n",
    "param['eta'] = 1\n",
    "param['gamma']= 3\n",
    "param['max_depth'] = 15\n",
    "param['min_child_weight']=4\n",
    "param['max_delta_step']=4\n",
    "\n",
    "param['nthread'] = 3\n",
    "#param['subsample']=1\n",
    "param['num_class'] = 3\n",
    "param['eval_metric']='mlogloss'\n",
    "\n",
    "watchlist = [ (xg_train,'train'), (xg_test, 'test') ]\n",
    "num_round = 4\n",
    "bst = xgb.train(param, xg_train,num_round,evals=watchlist);\n",
    "# get prediction\n",
    "pred = bst.predict( xg_test );\n",
    "\n",
    "xgb.cv(param, xg_train, num_round, nfold=5,\n",
    "       metrics=['mlogloss'], seed = 0)"
   ]
  },
  {
   "cell_type": "code",
   "execution_count": 19,
   "metadata": {
    "collapsed": false
   },
   "outputs": [
    {
     "data": {
      "text/plain": [
       "<matplotlib.axes._subplots.AxesSubplot at 0x7f913ed908d0>"
      ]
     },
     "execution_count": 19,
     "metadata": {},
     "output_type": "execute_result"
    }
   ],
   "source": [
    "xgb.plot_importance(booster=bst)"
   ]
  },
  {
   "cell_type": "code",
   "execution_count": null,
   "metadata": {
    "collapsed": true
   },
   "outputs": [],
   "source": [
    "plt.show()"
   ]
  },
  {
   "cell_type": "code",
   "execution_count": 7,
   "metadata": {
    "collapsed": false
   },
   "outputs": [
    {
     "data": {
      "text/plain": [
       "0.8103946102021174"
      ]
     },
     "execution_count": 7,
     "metadata": {},
     "output_type": "execute_result"
    }
   ],
   "source": [
    "trloc=train['location'].unique()\n",
    "teloc=test['location'].unique()\n",
    "counter=0\n",
    "total=0\n",
    "for x in teloc:\n",
    "    total=total+1\n",
    "    if x in trloc:\n",
    "        counter=counter+1\n",
    "counter/total"
   ]
  },
  {
   "cell_type": "code",
   "execution_count": 11,
   "metadata": {
    "collapsed": true
   },
   "outputs": [
    {
     "data": {
      "text/plain": [
       "id\n",
       "1        1\n",
       "5        0\n",
       "6        1\n",
       "8        0\n",
       "13       0\n",
       "19       1\n",
       "20       0\n",
       "23       0\n",
       "24       0\n",
       "26       0\n",
       "27       0\n",
       "28       0\n",
       "29       0\n",
       "31       0\n",
       "33       0\n",
       "38       0\n",
       "43       0\n",
       "44       0\n",
       "49       0\n",
       "53       0\n",
       "54       0\n",
       "55       0\n",
       "57       1\n",
       "59       0\n",
       "60       0\n",
       "61       1\n",
       "64       0\n",
       "67       0\n",
       "68       2\n",
       "69       1\n",
       "        ..\n",
       "18473    0\n",
       "18474    0\n",
       "18480    0\n",
       "18482    0\n",
       "18484    1\n",
       "18490    0\n",
       "18492    0\n",
       "18493    0\n",
       "18498    0\n",
       "18503    0\n",
       "18506    0\n",
       "18507    0\n",
       "18508    0\n",
       "18511    1\n",
       "18520    0\n",
       "18524    1\n",
       "18525    2\n",
       "18527    1\n",
       "18528    2\n",
       "18530    0\n",
       "18533    0\n",
       "18535    0\n",
       "18536    0\n",
       "18537    0\n",
       "18538    1\n",
       "18539    0\n",
       "18542    0\n",
       "18543    1\n",
       "18548    0\n",
       "18550    0\n",
       "Name: fault_severity, dtype: float64"
      ]
     },
     "execution_count": 11,
     "metadata": {},
     "output_type": "execute_result"
    }
   ],
   "source": [
    "prior_df=join.loc['train'].groupby('id').mean()\n",
    "prior_df=prior_df['fault_severity']"
   ]
  },
  {
   "cell_type": "code",
   "execution_count": 8,
   "metadata": {
    "collapsed": false
   },
   "outputs": [
    {
     "data": {
      "text/plain": [
       "3730    3.670196\n",
       "Name: volume, dtype: float64"
      ]
     },
     "execution_count": 8,
     "metadata": {},
     "output_type": "execute_result"
    }
   ],
   "source": [
    "join.loc['train']['volume'][join.loc['train']['id']==9320]"
   ]
  },
  {
   "cell_type": "code",
   "execution_count": null,
   "metadata": {
    "collapsed": true
   },
   "outputs": [],
   "source": [
    "xg"
   ]
  },
  {
   "cell_type": "code",
   "execution_count": 77,
   "metadata": {
    "collapsed": false
   },
   "outputs": [
    {
     "data": {
      "text/plain": [
       "(11171, 1588)"
      ]
     },
     "execution_count": 77,
     "metadata": {},
     "output_type": "execute_result"
    }
   ],
   "source": [
    "join.loc['test'].shape"
   ]
  },
  {
   "cell_type": "code",
   "execution_count": 211,
   "metadata": {
    "collapsed": false
   },
   "outputs": [],
   "source": [
    "true_test=test_features.values\n",
    "xg_true_test=xgb.DMatrix(true_test)\n",
    "test_response=bst.predict(xg_true_test)"
   ]
  },
  {
   "cell_type": "code",
   "execution_count": 198,
   "metadata": {
    "collapsed": false
   },
   "outputs": [
    {
     "data": {
      "text/plain": [
       "array([[ 0.83686632,  0.13276784,  0.0303659 ],\n",
       "       [ 0.64375108,  0.28828788,  0.06796105],\n",
       "       [ 0.87293285,  0.09292647,  0.03414068],\n",
       "       ..., \n",
       "       [ 0.8772341 ,  0.095026  ,  0.02773988],\n",
       "       [ 0.89589626,  0.07657157,  0.02753224],\n",
       "       [ 0.95903444,  0.0267894 ,  0.01417619]], dtype=float32)"
      ]
     },
     "execution_count": 198,
     "metadata": {},
     "output_type": "execute_result"
    }
   ],
   "source": [
    "test_response"
   ]
  },
  {
   "cell_type": "code",
   "execution_count": 199,
   "metadata": {
    "collapsed": true
   },
   "outputs": [],
   "source": [
    "plt.hist(test_response)\n",
    "plt.show()"
   ]
  },
  {
   "cell_type": "code",
   "execution_count": 78,
   "metadata": {
    "collapsed": false
   },
   "outputs": [
    {
     "data": {
      "text/plain": [
       "(11171, 3)"
      ]
     },
     "execution_count": 78,
     "metadata": {},
     "output_type": "execute_result"
    }
   ],
   "source": [
    "test_response.shape"
   ]
  },
  {
   "cell_type": "code",
   "execution_count": 212,
   "metadata": {
    "collapsed": false
   },
   "outputs": [],
   "source": [
    "#save predictions to required format \n",
    "#make it binary?\n",
    "out=pd.DataFrame({'id':[],'predict_0':[],'predict_1':[],'predict_2':[]})\n",
    "out['id']=join.loc['test']['id']\n",
    "out['predict_0']=test_response.T[0]\n",
    "out['predict_1']=test_response.T[1]\n",
    "out['predict_2']=test_response.T[2]\n",
    "out=out[['id','predict_0','predict_1','predict_2']]\n",
    "out.to_csv('predictions.csv',index=False)"
   ]
  },
  {
   "cell_type": "code",
   "execution_count": 120,
   "metadata": {
    "collapsed": true
   },
   "outputs": [],
   "source": [
    "from sklearn.ensemble import RandomForestClassifier, AdaBoostClassifier, BaggingClassifier, ExtraTreesClassifier\n",
    "from sklearn.ensemble import GradientBoostingClassifier\n",
    "from sklearn.naive_bayes import BernoulliNB\n",
    "from sklearn.linear_model import RidgeClassifierCV, Perceptron, SGDClassifier, PassiveAggressiveClassifier\n",
    "from sklearn.dummy import DummyClassifier\n",
    "from sklearn.discriminant_analysis import QuadraticDiscriminantAnalysis, LinearDiscriminantAnalysis\n",
    "from sklearn.neighbors import KNeighborsClassifier, NearestCentroid\n",
    "from sklearn.svm import LinearSVC\n",
    "from sklearn.metrics import log_loss, accuracy_score, classification_report\n",
    "from sklearn.cross_validation import train_test_split, cross_val_score\n",
    "from sklearn.multiclass import OneVsRestClassifier, OneVsOneClassifier, OutputCodeClassifier\n",
    "from sklearn import grid_search"
   ]
  },
  {
   "cell_type": "code",
   "execution_count": 77,
   "metadata": {
    "collapsed": false
   },
   "outputs": [],
   "source": [
    "train_x, test_x, train_y, test_y = train_test_split(train_features, train_target, test_size=0.31, random_state=0)\n",
    "def benchmark(clf):\n",
    "    print('_' * 80)\n",
    "    print(\"Training: \")\n",
    "    print(clf)\n",
    "    t0 = t.time()\n",
    "    #clf=OneVsRestClassifier(clf) #may want to remove for testing\n",
    "    clf.fit(train_x, train_y)\n",
    "    train_time = t.time() - t0\n",
    "    print(\"Training time: %0.3fs\" % train_time)\n",
    "\n",
    "    t0 = t.time()\n",
    "    y_pred_single = clf.predict(test_x)\n",
    "    if (hasattr(clf,'predict_proba')):\n",
    "        y_pred_dist = clf.predict_proba(test_x)\n",
    "        logloss=log_loss(test_y,y_pred_dist)\n",
    "        print(\"LogLoss: %0.3fs\" % logloss)\n",
    "    test_time = t.time() - t0\n",
    "    print(\"Prediction time:  %0.3fs\" % test_time)\n",
    "\n",
    "    acc_score = accuracy_score(test_y, y_pred_single)\n",
    "    print(\"Accuracy:   %0.3f\" % acc_score)\n",
    "    \n",
    "    #if (hasattr(clf,'predict_proba')):\n",
    "       #scores = cross_val_score(clf,train_features,train_target, scoring='log_loss')\n",
    "        #loss_score=scores.mean()\n",
    "        #print(\"CV LogLoss: %0.2f (+/- %0.2f)\" % (loss_score, scores.std() * 2))\n",
    "    \n",
    "    print(classification_report(test_y, y_pred_single))\n",
    "    clf_descr = str(clf).split('(')[0]\n",
    "    \n",
    "    if (hasattr(clf,'predict_proba')):\n",
    "        return clf_descr, acc_score, logloss, train_time, test_time\n",
    "    else:\n",
    "        return clf_descr, acc_score, train_time, test_time"
   ]
  },
  {
   "cell_type": "code",
   "execution_count": 79,
   "metadata": {
    "collapsed": true
   },
   "outputs": [
    {
     "name": "stdout",
     "output_type": "stream",
     "text": [
      "================================================================================\n",
      "Ridge Classifier\n",
      "________________________________________________________________________________\n",
      "Training: \n",
      "RidgeClassifierCV(alphas=(0.1, 1.0, 10.0), class_weight=None, cv=None,\n",
      "         fit_intercept=True, normalize=False, scoring=None)\n",
      "Training time: 4.643s\n",
      "Prediction time:  0.038s\n",
      "Accuracy:   0.727\n",
      "             precision    recall  f1-score   support\n",
      "\n",
      "        0.0       0.79      0.91      0.84      1476\n",
      "        1.0       0.59      0.35      0.44       593\n",
      "        2.0       0.49      0.55      0.52       220\n",
      "\n",
      "avg / total       0.71      0.73      0.71      2289\n",
      "\n",
      "================================================================================\n",
      "Random forest\n",
      "________________________________________________________________________________\n",
      "Training: \n",
      "RandomForestClassifier(bootstrap=True, class_weight=None, criterion='gini',\n",
      "            max_depth=None, max_features='auto', max_leaf_nodes=None,\n",
      "            min_samples_leaf=1, min_samples_split=2,\n",
      "            min_weight_fraction_leaf=0.0, n_estimators=300, n_jobs=1,\n",
      "            oob_score=False, random_state=None, verbose=0,\n",
      "            warm_start=False)\n",
      "Training time: 17.260s\n",
      "Prediction time:  0.930s\n",
      "Accuracy:   0.736\n",
      "             precision    recall  f1-score   support\n",
      "\n",
      "        0.0       0.80      0.88      0.84      1476\n",
      "        1.0       0.59      0.47      0.52       593\n",
      "        2.0       0.54      0.49      0.51       220\n",
      "\n",
      "avg / total       0.72      0.74      0.73      2289\n",
      "\n",
      "================================================================================\n",
      "AdaBoost\n",
      "________________________________________________________________________________\n",
      "Training: \n",
      "AdaBoostClassifier(algorithm='SAMME.R', base_estimator=None,\n",
      "          learning_rate=1.0, n_estimators=50, random_state=None)\n",
      "Training time: 2.913s\n",
      "Prediction time:  0.465s\n",
      "Accuracy:   0.720\n",
      "             precision    recall  f1-score   support\n",
      "\n",
      "        0.0       0.77      0.90      0.83      1476\n",
      "        1.0       0.58      0.31      0.40       593\n",
      "        2.0       0.54      0.62      0.58       220\n",
      "\n",
      "avg / total       0.70      0.72      0.70      2289\n",
      "\n",
      "================================================================================\n",
      "Bagging\n",
      "________________________________________________________________________________\n",
      "Training: \n",
      "BaggingClassifier(base_estimator=None, bootstrap=True,\n",
      "         bootstrap_features=False, max_features=1.0, max_samples=1.0,\n",
      "         n_estimators=10, n_jobs=1, oob_score=False, random_state=None,\n",
      "         verbose=0, warm_start=False)\n",
      "Training time: 3.196s\n",
      "Prediction time:  0.596s\n",
      "Accuracy:   0.730\n",
      "             precision    recall  f1-score   support\n",
      "\n",
      "        0.0       0.79      0.87      0.83      1476\n",
      "        1.0       0.59      0.47      0.52       593\n",
      "        2.0       0.55      0.49      0.52       220\n",
      "\n",
      "avg / total       0.72      0.73      0.72      2289\n",
      "\n",
      "================================================================================\n",
      "DiscriminatnAnalysis\n",
      "________________________________________________________________________________\n",
      "Training: \n",
      "QuadraticDiscriminantAnalysis(priors=None, reg_param=0.0,\n",
      "               store_covariances=False, tol=0.0001)\n",
      "Training time: 5.013s\n",
      "Prediction time:  1.510s\n",
      "Accuracy:   0.603\n",
      "             precision    recall  f1-score   support\n",
      "\n",
      "        0.0       0.71      0.76      0.73      1476\n",
      "        1.0       0.44      0.40      0.42       593\n",
      "        2.0       0.09      0.07      0.08       220\n",
      "\n",
      "avg / total       0.58      0.60      0.59      2289\n",
      "\n"
     ]
    },
    {
     "name": "stderr",
     "output_type": "stream",
     "text": [
      "C:\\Anaconda3\\lib\\site-packages\\sklearn\\discriminant_analysis.py:688: UserWarning: Variables are collinear\n",
      "  warnings.warn(\"Variables are collinear\")\n"
     ]
    }
   ],
   "source": [
    "results = []\n",
    "for clf, name in (\n",
    "        (RidgeClassifierCV(), \"Ridge Classifier\"),\n",
    "        (RandomForestClassifier(n_estimators=300), \"Random forest\"),\n",
    "        (AdaBoostClassifier(), \"AdaBoost\"),\n",
    "        (BaggingClassifier(), \"Bagging\"),\n",
    "        (QuadraticDiscriminantAnalysis(), \"DiscriminatnAnalysis\")):\n",
    "    print('=' * 80)\n",
    "    print(name)\n",
    "    results.append(benchmark(clf))"
   ]
  },
  {
   "cell_type": "code",
   "execution_count": 115,
   "metadata": {
    "collapsed": false
   },
   "outputs": [
    {
     "name": "stdout",
     "output_type": "stream",
     "text": [
      "________________________________________________________________________________\n",
      "Training: \n",
      "OneVsRestClassifier(estimator=GradientBoostingClassifier(init=None, learning_rate=0.1, loss='deviance',\n",
      "              max_depth=7, max_features=None, max_leaf_nodes=None,\n",
      "              min_samples_leaf=1, min_samples_split=2,\n",
      "              min_weight_fraction_leaf=0.0, n_estimators=200, presort=True,\n",
      "              random_state=None, subsample=1.0, verbose=1,\n",
      "              warm_start=False),\n",
      "          n_jobs=-2)\n",
      "Training time: 92.315s\n",
      "Prediction time:  0.573s\n",
      "Accuracy:   0.739\n",
      "             precision    recall  f1-score   support\n",
      "\n",
      "        0.0       0.80      0.89      0.84      1476\n",
      "        1.0       0.61      0.42      0.50       593\n",
      "        2.0       0.55      0.60      0.58       220\n",
      "\n",
      "avg / total       0.73      0.74      0.73      2289\n",
      "\n"
     ]
    },
    {
     "data": {
      "text/plain": [
       "('OneVsRestClassifier',\n",
       " 0.73918741808650068,\n",
       " 0.57045593736126277,\n",
       " 92.31480956077576,\n",
       " 0.5728719234466553)"
      ]
     },
     "execution_count": 115,
     "metadata": {},
     "output_type": "execute_result"
    }
   ],
   "source": [
    "#test a classifier\n",
    "\n",
    "# Fit the model to training data\n",
    "#parameters={'n_estimators':[100,150]},'max_depth':[3]}\n",
    "clf = OneVsRestClassifier(GradientBoostingClassifier(n_estimators=200,verbose=1,presort=True,max_depth=7),n_jobs=-2)#,min_samples_leaf=10,min_samples_split=5)\n",
    "#clf=grid_search.GridSearchCV(gbc, parameters,n_jobs=-2)\n",
    "benchmark(clf)"
   ]
  },
  {
   "cell_type": "code",
   "execution_count": 122,
   "metadata": {
    "collapsed": false
   },
   "outputs": [
    {
     "name": "stdout",
     "output_type": "stream",
     "text": [
      "________________________________________________________________________________\n",
      "Training: \n",
      "OneVsRestClassifier(estimator=RandomForestClassifier(bootstrap=True, class_weight=None, criterion='gini',\n",
      "            max_depth=None, max_features='auto', max_leaf_nodes=None,\n",
      "            min_samples_leaf=1, min_samples_split=10,\n",
      "            min_weight_fraction_leaf=0.0, n_estimators=400, n_jobs=-2,\n",
      "            oob_score=True, random_state=None, verbose=1, warm_start=False),\n",
      "          n_jobs=-2)\n",
      "Training time: 31.099s"
     ]
    },
    {
     "name": "stderr",
     "output_type": "stream",
     "text": [
      "[Parallel(n_jobs=3)]: Done  44 tasks      | elapsed:    0.0s\n",
      "[Parallel(n_jobs=3)]: Done 194 tasks      | elapsed:    0.0s\n",
      "[Parallel(n_jobs=3)]: Done 400 out of 400 | elapsed:    0.1s finished\n",
      "[Parallel(n_jobs=3)]: Done  44 tasks      | elapsed:    0.0s\n",
      "[Parallel(n_jobs=3)]: Done 194 tasks      | elapsed:    0.0s\n",
      "[Parallel(n_jobs=3)]: Done 400 out of 400 | elapsed:    0.1s finished\n",
      "[Parallel(n_jobs=3)]: Done  44 tasks      | elapsed:    0.0s\n",
      "[Parallel(n_jobs=3)]: Done 194 tasks      | elapsed:    0.0s\n",
      "[Parallel(n_jobs=3)]: Done 400 out of 400 | elapsed:    0.1s finished\n",
      "[Parallel(n_jobs=3)]: Done  44 tasks      | elapsed:    0.0s\n",
      "[Parallel(n_jobs=3)]: Done 194 tasks      | elapsed:    0.0s\n",
      "[Parallel(n_jobs=3)]: Done 400 out of 400 | elapsed:    0.1s finished\n",
      "[Parallel(n_jobs=3)]: Done  44 tasks      | elapsed:    0.0s\n",
      "[Parallel(n_jobs=3)]: Done 194 tasks      | elapsed:    0.0s\n",
      "[Parallel(n_jobs=3)]: Done 400 out of 400 | elapsed:    0.1s finished\n",
      "[Parallel(n_jobs=3)]: Done  44 tasks      | elapsed:    0.0s\n",
      "[Parallel(n_jobs=3)]: Done 194 tasks      | elapsed:    0.0s\n",
      "[Parallel(n_jobs=3)]: Done 400 out of 400 | elapsed:    0.1s finished\n"
     ]
    },
    {
     "name": "stdout",
     "output_type": "stream",
     "text": [
      "\n",
      "Prediction time:  1.980s\n",
      "Accuracy:   0.751\n",
      "             precision    recall  f1-score   support\n",
      "\n",
      "        0.0       0.80      0.90      0.85      1476\n",
      "        1.0       0.63      0.44      0.52       593\n",
      "        2.0       0.59      0.56      0.57       220\n",
      "\n",
      "avg / total       0.74      0.75      0.74      2289\n",
      "\n"
     ]
    },
    {
     "data": {
      "text/plain": [
       "('OneVsRestClassifier',\n",
       " 0.75141983398864132,\n",
       " 0.54245802948043198,\n",
       " 31.099143743515015,\n",
       " 1.9801154136657715)"
      ]
     },
     "execution_count": 122,
     "metadata": {},
     "output_type": "execute_result"
    }
   ],
   "source": [
    "#test a classifier\n",
    "\n",
    "# Fit the model to training data\n",
    "#parameters={'n_estimators':[100,150]},'max_depth':[3]}\n",
    "clf = OneVsRestClassifier(RandomForestClassifier(n_estimators=400,verbose=1,min_samples_split=10,\\\n",
    "                                                 oob_score=True,n_jobs=-2),n_jobs=-2)\n",
    "#clf=grid_search.GridSearchCV(gbc, parameters,n_jobs=-2)\n",
    "benchmark(clf)"
   ]
  },
  {
   "cell_type": "code",
   "execution_count": 110,
   "metadata": {
    "collapsed": false
   },
   "outputs": [
    {
     "name": "stdout",
     "output_type": "stream",
     "text": [
      "LogLoss: -0.56 (+/- 0.01)\n"
     ]
    },
    {
     "name": "stderr",
     "output_type": "stream",
     "text": [
      "[Parallel(n_jobs=-2)]: Done   3 out of   3 | elapsed:   44.6s finished\n"
     ]
    }
   ],
   "source": [
    "scores = cross_val_score(clf,train_features,train_target, scoring='log_loss',n_jobs=-2,verbose=True)\n",
    "print(\"LogLoss: %0.2f (+/- %0.2f)\" % (scores.mean(), scores.std() * 2))"
   ]
  },
  {
   "cell_type": "code",
   "execution_count": 111,
   "metadata": {
    "collapsed": false
   },
   "outputs": [],
   "source": [
    "bestCLF=clf"
   ]
  },
  {
   "cell_type": "code",
   "execution_count": 112,
   "metadata": {
    "collapsed": false
   },
   "outputs": [
    {
     "name": "stderr",
     "output_type": "stream",
     "text": [
      "[Parallel(n_jobs=-2)]: Done  44 tasks      | elapsed:    1.1s\n",
      "[Parallel(n_jobs=-2)]: Done 194 tasks      | elapsed:    4.9s\n",
      "[Parallel(n_jobs=-2)]: Done 400 out of 400 | elapsed:   10.2s finished\n"
     ]
    },
    {
     "data": {
      "text/plain": [
       "RandomForestClassifier(bootstrap=True, class_weight=None, criterion='gini',\n",
       "            max_depth=None, max_features='auto', max_leaf_nodes=800,\n",
       "            min_samples_leaf=1, min_samples_split=10,\n",
       "            min_weight_fraction_leaf=0.0, n_estimators=400, n_jobs=-2,\n",
       "            oob_score=True, random_state=None, verbose=1, warm_start=False)"
      ]
     },
     "execution_count": 112,
     "metadata": {},
     "output_type": "execute_result"
    }
   ],
   "source": [
    "bestCLF.fit(train_features,train_target)"
   ]
  },
  {
   "cell_type": "code",
   "execution_count": 113,
   "metadata": {
    "collapsed": false
   },
   "outputs": [
    {
     "name": "stderr",
     "output_type": "stream",
     "text": [
      "[Parallel(n_jobs=3)]: Done  44 tasks      | elapsed:    0.0s\n",
      "[Parallel(n_jobs=3)]: Done 194 tasks      | elapsed:    0.3s\n",
      "[Parallel(n_jobs=3)]: Done 400 out of 400 | elapsed:    0.7s finished\n"
     ]
    }
   ],
   "source": [
    "test_response=bestCLF.predict_proba(test_features)"
   ]
  },
  {
   "cell_type": "code",
   "execution_count": null,
   "metadata": {
    "collapsed": true
   },
   "outputs": [],
   "source": []
  },
  {
   "cell_type": "code",
   "execution_count": 5,
   "metadata": {
    "collapsed": false
   },
   "outputs": [
    {
     "data": {
      "text/html": [
       "<div>\n",
       "<table border=\"1\" class=\"dataframe\">\n",
       "  <thead>\n",
       "    <tr style=\"text-align: right;\">\n",
       "      <th></th>\n",
       "      <th></th>\n",
       "      <th>fault_severity</th>\n",
       "      <th>id</th>\n",
       "      <th>location</th>\n",
       "      <th>event_type</th>\n",
       "      <th>severity_type</th>\n",
       "      <th>resource_type</th>\n",
       "      <th>log_feature</th>\n",
       "      <th>volume</th>\n",
       "    </tr>\n",
       "    <tr>\n",
       "      <th>sample</th>\n",
       "      <th></th>\n",
       "      <th></th>\n",
       "      <th></th>\n",
       "      <th></th>\n",
       "      <th></th>\n",
       "      <th></th>\n",
       "      <th></th>\n",
       "      <th></th>\n",
       "      <th></th>\n",
       "    </tr>\n",
       "  </thead>\n",
       "  <tbody>\n",
       "    <tr>\n",
       "      <th rowspan=\"5\" valign=\"top\">train</th>\n",
       "      <th>0</th>\n",
       "      <td>1</td>\n",
       "      <td>14121</td>\n",
       "      <td>148</td>\n",
       "      <td>26</td>\n",
       "      <td>1</td>\n",
       "      <td>2</td>\n",
       "      <td>237</td>\n",
       "      <td>19</td>\n",
       "    </tr>\n",
       "    <tr>\n",
       "      <th>1</th>\n",
       "      <td>1</td>\n",
       "      <td>14121</td>\n",
       "      <td>148</td>\n",
       "      <td>26</td>\n",
       "      <td>1</td>\n",
       "      <td>2</td>\n",
       "      <td>148</td>\n",
       "      <td>19</td>\n",
       "    </tr>\n",
       "    <tr>\n",
       "      <th>2</th>\n",
       "      <td>1</td>\n",
       "      <td>14121</td>\n",
       "      <td>148</td>\n",
       "      <td>27</td>\n",
       "      <td>1</td>\n",
       "      <td>2</td>\n",
       "      <td>237</td>\n",
       "      <td>19</td>\n",
       "    </tr>\n",
       "    <tr>\n",
       "      <th>3</th>\n",
       "      <td>1</td>\n",
       "      <td>14121</td>\n",
       "      <td>148</td>\n",
       "      <td>27</td>\n",
       "      <td>1</td>\n",
       "      <td>2</td>\n",
       "      <td>148</td>\n",
       "      <td>19</td>\n",
       "    </tr>\n",
       "    <tr>\n",
       "      <th>4</th>\n",
       "      <td>0</td>\n",
       "      <td>9320</td>\n",
       "      <td>1027</td>\n",
       "      <td>26</td>\n",
       "      <td>1</td>\n",
       "      <td>2</td>\n",
       "      <td>240</td>\n",
       "      <td>200</td>\n",
       "    </tr>\n",
       "  </tbody>\n",
       "</table>\n",
       "</div>"
      ],
      "text/plain": [
       "          fault_severity     id  location  event_type  severity_type  \\\n",
       "sample                                                                 \n",
       "train  0               1  14121       148          26              1   \n",
       "       1               1  14121       148          26              1   \n",
       "       2               1  14121       148          27              1   \n",
       "       3               1  14121       148          27              1   \n",
       "       4               0   9320      1027          26              1   \n",
       "\n",
       "          resource_type  log_feature  volume  \n",
       "sample                                        \n",
       "train  0              2          237      19  \n",
       "       1              2          148      19  \n",
       "       2              2          237      19  \n",
       "       3              2          148      19  \n",
       "       4              2          240     200  "
      ]
     },
     "execution_count": 5,
     "metadata": {},
     "output_type": "execute_result"
    }
   ],
   "source": [
    "#transform cat labels into digits\n",
    "from sklearn.preprocessing import LabelEncoder\n",
    "le=LabelEncoder()\n",
    "for column in join.columns:\n",
    "    if column not in notCat:\n",
    "        join[column]=le.fit_transform(join[column])\n",
    "    \n",
    "join.head()"
   ]
  }
 ],
 "metadata": {
  "kernelspec": {
   "display_name": "Python 3",
   "language": "python",
   "name": "python3"
  },
  "language_info": {
   "codemirror_mode": {
    "name": "ipython",
    "version": 3
   },
   "file_extension": ".py",
   "mimetype": "text/x-python",
   "name": "python",
   "nbconvert_exporter": "python",
   "pygments_lexer": "ipython3",
   "version": "3.5.1"
  }
 },
 "nbformat": 4,
 "nbformat_minor": 0
}
