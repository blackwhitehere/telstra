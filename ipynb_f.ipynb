{
 "cells": [
  {
   "cell_type": "code",
   "execution_count": 23,
   "metadata": {
    "collapsed": false
   },
   "outputs": [],
   "source": [
    "__author__ = 'stan'\n",
    "\n",
    "import pandas as pd\n",
    "import matplotlib.pyplot as plt\n",
    "import numpy as np\n",
    "import utility as u\n",
    "from sklearn import preprocessing as pre\n",
    "\n",
    "datasets=u.get_datasets()\n",
    "join=u.cat_join()\n",
    "cat_cols=u.get_cat_cols()\n",
    "samples=u.get_sample_names()\n",
    "\n",
    "\n",
    "stats=u.get_stats_features(join)\n",
    "priors=u.get_prior_features(join)\n",
    "#datasets['stats']=stats\n",
    "datasets['priors']=priors\n",
    "\n",
    "join=u.empty_join(datasets)"
   ]
  },
  {
   "cell_type": "code",
   "execution_count": 10,
   "metadata": {
    "collapsed": false
   },
   "outputs": [
    {
     "data": {
      "text/html": [
       "<div>\n",
       "<table border=\"1\" class=\"dataframe\">\n",
       "  <thead>\n",
       "    <tr style=\"text-align: right;\">\n",
       "      <th></th>\n",
       "      <th>fault_severity</th>\n",
       "      <th>id</th>\n",
       "      <th>location</th>\n",
       "      <th>sample</th>\n",
       "    </tr>\n",
       "  </thead>\n",
       "  <tbody>\n",
       "    <tr>\n",
       "      <th>0</th>\n",
       "      <td>1</td>\n",
       "      <td>14121</td>\n",
       "      <td>location 118</td>\n",
       "      <td>train</td>\n",
       "    </tr>\n",
       "    <tr>\n",
       "      <th>1</th>\n",
       "      <td>0</td>\n",
       "      <td>9320</td>\n",
       "      <td>location 91</td>\n",
       "      <td>train</td>\n",
       "    </tr>\n",
       "    <tr>\n",
       "      <th>2</th>\n",
       "      <td>1</td>\n",
       "      <td>14394</td>\n",
       "      <td>location 152</td>\n",
       "      <td>train</td>\n",
       "    </tr>\n",
       "    <tr>\n",
       "      <th>3</th>\n",
       "      <td>1</td>\n",
       "      <td>8218</td>\n",
       "      <td>location 931</td>\n",
       "      <td>train</td>\n",
       "    </tr>\n",
       "    <tr>\n",
       "      <th>4</th>\n",
       "      <td>0</td>\n",
       "      <td>14804</td>\n",
       "      <td>location 120</td>\n",
       "      <td>train</td>\n",
       "    </tr>\n",
       "  </tbody>\n",
       "</table>\n",
       "</div>"
      ],
      "text/plain": [
       "   fault_severity     id      location sample\n",
       "0               1  14121  location 118  train\n",
       "1               0   9320   location 91  train\n",
       "2               1  14394  location 152  train\n",
       "3               1   8218  location 931  train\n",
       "4               0  14804  location 120  train"
      ]
     },
     "execution_count": 10,
     "metadata": {},
     "output_type": "execute_result"
    }
   ],
   "source": [
    "join.head()"
   ]
  },
  {
   "cell_type": "code",
   "execution_count": 24,
   "metadata": {
    "collapsed": true
   },
   "outputs": [],
   "source": [
    "#convert tables of categorical classes to binary row feature vectors for each unique id. Continuous factors are not affected\n",
    "for key, dataset in datasets.items():\n",
    "    if key not in ['stats','prior']:\n",
    "        tmp=pd.get_dummies(dataset,dummy_na=True)\n",
    "        tmp=tmp.groupby('id').sum()\n",
    "        tmp['id']=tmp.index\n",
    "        dataset=tmp\n",
    "        datasets[key]=dataset\n",
    "\n",
    "#joins features from different datasets into one dataframe, features only for ids that appear in train/test are extracted\n",
    "#(i.e. some features may not be related to any id)\n",
    "for key, dataset in datasets.items():\n",
    "    if key not in samples:\n",
    "        join=pd.merge(join,dataset,on='id',how='left')\n",
    "\n",
    "join=pd.merge(join,stats,on='id')\n",
    "join=join.set_index(['sample'])\n"
   ]
  },
  {
   "cell_type": "code",
   "execution_count": 32,
   "metadata": {
    "collapsed": true
   },
   "outputs": [],
   "source": [
    "join=pd.get_dummies(join) #fixes dummies for location\n",
    "\n",
    "#TODO: TRY REMOVING ROWS WITH MISSING DATA\n",
    "#fills in missing data\n",
    "join=join.fillna(value=0)\n",
    "\n",
    "#creates features and targets for final training\n",
    "features=join.columns.values.tolist()\n",
    "not_features=['fault_severity', 'id']\n",
    "for x in features:\n",
    "    if \"_nan\" in x:\n",
    "        features.remove(x)\n",
    "        not_features.append(x)\n",
    "\n",
    "for x in not_features:\n",
    "    if x in features:\n",
    "        features.remove(x)\n",
    "\n",
    "train_features = join.loc['train'][features[0:500]]\n",
    "train_target = join.loc['train']['fault_severity']\n",
    "\n",
    "test_features = join.loc['test'][features[0:500]]"
   ]
  },
  {
   "cell_type": "code",
   "execution_count": 34,
   "metadata": {
    "collapsed": false
   },
   "outputs": [
    {
     "name": "stderr",
     "output_type": "stream",
     "text": [
      "[0]\ttrain-mlogloss:0.499935\ttest-mlogloss:0.514258\n",
      "[1]\ttrain-mlogloss:0.410742\ttest-mlogloss:0.432152\n",
      "[2]\ttrain-mlogloss:0.378228\ttest-mlogloss:0.400052\n",
      "[3]\ttrain-mlogloss:0.364654\ttest-mlogloss:0.390055\n",
      "[0]\ttrain-mlogloss:0.503876\ttest-mlogloss:0.497877\n",
      "[1]\ttrain-mlogloss:0.411998\ttest-mlogloss:0.404410\n",
      "[2]\ttrain-mlogloss:0.379795\ttest-mlogloss:0.370117\n",
      "[3]\ttrain-mlogloss:0.365000\ttest-mlogloss:0.356801\n"
     ]
    },
    {
     "name": "stdout",
     "output_type": "stream",
     "text": [
      "   test-mlogloss-mean  test-mlogloss-std  train-mlogloss-mean  \\\n",
      "0            0.533175           0.012222             0.511788   \n",
      "1            0.447418           0.016714             0.416397   \n",
      "2            0.419950           0.016353             0.385144   \n",
      "3            0.411403           0.018429             0.374923   \n",
      "\n",
      "   train-mlogloss-std  \n",
      "0            0.009949  \n",
      "1            0.007677  \n",
      "2            0.010356  \n",
      "3            0.008538  \n",
      "   test-mlogloss-mean  test-mlogloss-std  train-mlogloss-mean  \\\n",
      "0            0.533175           0.012222             0.511788   \n",
      "1            0.447418           0.016714             0.416397   \n",
      "2            0.419950           0.016353             0.385144   \n",
      "3            0.411403           0.018429             0.374923   \n",
      "\n",
      "   train-mlogloss-std  \n",
      "0            0.009949  \n",
      "1            0.007677  \n",
      "2            0.010356  \n",
      "3            0.008538  \n"
     ]
    }
   ],
   "source": [
    "#XGBOOST\n",
    "import xgboost as xgb\n",
    "\n",
    "sz=(train_features.values).shape\n",
    "\n",
    "train_X = train_features.values[:int(sz[0] * 0.7), :]\n",
    "train_Y = train_target.values[:int(sz[0]*0.7)]\n",
    "\n",
    "test_X = train_features.values[int(sz[0] * 0.7):, :]\n",
    "test_Y = train_target.values[int(sz[0] * 0.7):]\n",
    "\n",
    "xg_train = xgb.DMatrix(train_X, label=train_Y,feature_names=train_features.columns) #\n",
    "full_xg_train = xgb.DMatrix(train_features, label=train_target.values,feature_names=train_features.columns) #\n",
    "\n",
    "xg_test = xgb.DMatrix(test_X, label=test_Y,feature_names=test_features.columns) #\n",
    "full_xg_test = xgb.DMatrix(test_features,feature_names=test_features.columns) #\n",
    "\n",
    "#TRAIN\n",
    "# setup parameters for xgboost\n",
    "param = {}\n",
    "param['objective'] = 'multi:softprob'\n",
    "param['eta'] = 1\n",
    "param['gamma']= 6\n",
    "param['max_depth'] = 6\n",
    "param['min_child_weight']=20\n",
    "param['max_delta_step']=6\n",
    "#param['subsample']=0.5\n",
    "\n",
    "param['nthread'] = 3\n",
    "#param['subsample']=1\n",
    "param['num_class'] = 3\n",
    "param['eval_metric']='mlogloss'\n",
    "\n",
    "\n",
    "\n",
    "watchlist = [(xg_train,'train'), (xg_test, 'test')]\n",
    "num_round = 4\n",
    "bst = xgb.train(param, xg_train, num_round, evals=watchlist);\n",
    "\n",
    "print(xgb.cv(param, xg_train, num_round, nfold=3, metrics=['mlogloss'], seed=0))\n",
    "\n",
    "#xgb.plot_importance(booster=bst)\n",
    "#plt.show()\n",
    "\n",
    "bst=xgb.train(param, full_xg_train, num_round, evals=watchlist)\n",
    "test_response=bst.predict(full_xg_test)\n",
    "print(xgb.cv(param, xg_train, num_round, nfold=3, metrics=['mlogloss'], seed = 0))\n",
    "\n",
    "\n",
    "\n",
    "#save predictions to required format\n",
    "out=pd.DataFrame({'id':[],'predict_0':[],'predict_1':[],'predict_2':[]})\n",
    "out['id']=join.loc['test']['id']\n",
    "out['predict_0']=test_response.T[0]\n",
    "out['predict_1']=test_response.T[1]\n",
    "out['predict_2']=test_response.T[2]\n",
    "out=out[['id','predict_0','predict_1','predict_2']]\n",
    "out.to_csv('predictions.csv',index=False)"
   ]
  }
 ],
 "metadata": {
  "kernelspec": {
   "display_name": "Python 3",
   "language": "python",
   "name": "python3"
  },
  "language_info": {
   "codemirror_mode": {
    "name": "ipython",
    "version": 3
   },
   "file_extension": ".py",
   "mimetype": "text/x-python",
   "name": "python",
   "nbconvert_exporter": "python",
   "pygments_lexer": "ipython3",
   "version": "3.5.1"
  }
 },
 "nbformat": 4,
 "nbformat_minor": 0
}
