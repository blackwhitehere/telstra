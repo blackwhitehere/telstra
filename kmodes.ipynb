{
 "cells": [
  {
   "cell_type": "code",
   "execution_count": null,
   "metadata": {
    "collapsed": true
   },
   "outputs": [],
   "source": [
    "from kmodes import kmodes\n",
    "\n",
    "km = kmodes.KModes(n_clusters=5, init='Huang', n_init=1, verbose=1)\n",
    "clusters = km.fit_predict(join[features])\n",
    "\n"
   ]
  },
  {
   "cell_type": "code",
   "execution_count": null,
   "metadata": {
    "collapsed": true
   },
   "outputs": [],
   "source": [
    "join['clusters']=clusters\n",
    "join=pd.concat([join,pd.get_dummies(join['clusters'],prefix='cluster')],axis=1)\n",
    "del join['clusters']\n",
    "join.head()"
   ]
  }
 ],
 "metadata": {
  "kernelspec": {
   "display_name": "Python 3",
   "language": "python",
   "name": "python3"
  },
  "language_info": {
   "codemirror_mode": {
    "name": "ipython",
    "version": 3
   },
   "file_extension": ".py",
   "mimetype": "text/x-python",
   "name": "python",
   "nbconvert_exporter": "python",
   "pygments_lexer": "ipython3",
   "version": "3.4.3"
  }
 },
 "nbformat": 4,
 "nbformat_minor": 0
}
